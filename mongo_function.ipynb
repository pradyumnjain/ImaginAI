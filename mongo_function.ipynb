{
 "cells": [
  {
   "attachments": {},
   "cell_type": "markdown",
   "metadata": {},
   "source": [
    "# Mongo Function"
   ]
  },
  {
   "cell_type": "code",
   "execution_count": 24,
   "metadata": {},
   "outputs": [],
   "source": [
    "import os\n",
    "from dotenv import load_dotenv\n",
    "from pymongo import MongoClient"
   ]
  },
  {
   "cell_type": "code",
   "execution_count": 25,
   "metadata": {},
   "outputs": [],
   "source": [
    "load_dotenv()\n",
    "\n",
    "MONGO_URI = os.getenv('MONGO_URI')\n",
    "client = MongoClient(MONGO_URI)\n",
    "\n",
    "db = client[\"ImaginAI\"]\n",
    "collection = db[\"stock_data\"]"
   ]
  },
  {
   "attachments": {},
   "cell_type": "markdown",
   "metadata": {},
   "source": [
    "## Get Home Images"
   ]
  },
  {
   "cell_type": "code",
   "execution_count": 33,
   "metadata": {},
   "outputs": [],
   "source": [
    "def GetHomeImages(collection=None,cursor=0,size=50):\n",
    "    if collection is None:\n",
    "        return {}\n",
    "    query = {}\n",
    "    documents = list(collection.find(query).skip(cursor).limit(size))\n",
    "    url_list = [doc[\"image_url_list\"][0].split(\"/\")[-1] for doc in documents]\n",
    "    next_cursor = cursor + len(url_list)\n",
    "    return {\"url_list\":url_list,\"next_cursor\":next_cursor}"
   ]
  },
  {
   "cell_type": "code",
   "execution_count": 34,
   "metadata": {},
   "outputs": [
    {
     "data": {
      "text/plain": [
       "{'url_list': ['0-3384976558-pikachu eating spagetti.webp',\n",
       "  '06900-3224067249-spongebob squarepants, 3d, r_OldSchoolCool,  on mars.webp',\n",
       "  '02711-428682022-space nebula in background, flying turtle with futuristic city glass buble, photo realistic.webp',\n",
       "  '06861-833433198-Cute birdo style minion, holidays in Paris, unreal engine, octane render, 4k.webp',\n",
       "  '04865-1634464590-boy kissing girl under the moon, painting, (high detail), sharp.webp',\n",
       "  '07001-1504980454-Cute darth vader style minion, holidays in Paris, unreal engine, octane render, 4k.webp',\n",
       "  '10217-3908704418-street cyberpunk universe.webp',\n",
       "  '10254-2477207318-street  with flying cars cyberpunk universe top view.webp',\n",
       "  '10370-1920055693-street  with flying cars cyberpunk universe perspective view.webp',\n",
       "  '10582-2468875061-duck wizard watter, 3D render of an electric Porsche concept sport car, digital design sketch, trending on ArtStation, cardesign.webp'],\n",
       " 'next_cursor': 10}"
      ]
     },
     "execution_count": 34,
     "metadata": {},
     "output_type": "execute_result"
    }
   ],
   "source": [
    "GetHomeImages(collection,0,10)"
   ]
  },
  {
   "attachments": {},
   "cell_type": "markdown",
   "metadata": {},
   "source": [
    "## Search Prompt"
   ]
  },
  {
   "cell_type": "code",
   "execution_count": 28,
   "metadata": {},
   "outputs": [],
   "source": [
    "def SearchPrompt(collection=None,cursor=0,size=50,prompt=\"\"):\n",
    "    query = [\n",
    "        {\n",
    "            '$search': {\n",
    "                'index': 'search_prompt',\n",
    "                'text': {\n",
    "                    'query': f'{prompt}',\n",
    "                    'path': {\n",
    "                        'wildcard': '*'\n",
    "                    },\n",
    "                    'fuzzy': {}\n",
    "                }\n",
    "            }\n",
    "        },\n",
    "        {\n",
    "            '$limit': size  # Number of documents to retrieve\n",
    "        },\n",
    "        {\n",
    "            '$skip': cursor  # Number of documents to skip\n",
    "        }\n",
    "    ]\n",
    "    result = collection.aggregate(query)\n",
    "\n",
    "    return [doc for doc in result]"
   ]
  },
  {
   "cell_type": "code",
   "execution_count": 35,
   "metadata": {},
   "outputs": [],
   "source": [
    "doc = SearchPrompt(collection,0,10,\"pikacu\")"
   ]
  },
  {
   "cell_type": "code",
   "execution_count": 36,
   "metadata": {},
   "outputs": [
    {
     "data": {
      "text/plain": [
       "{'_id': ObjectId('641d5a2f1132d7dd7251e7df'),\n",
       " 'model_type': 'stable_diffusion',\n",
       " 'width': 512,\n",
       " 'height': 512,\n",
       " 'source': 'https://stablediffusion.fr/',\n",
       " 'source_url_list': ['https://stablediffusion.fr/assets/week-2022-40/0-3384976558-pikachu eating spagetti.webp'],\n",
       " 'metadata': {},\n",
       " 'image_url_list': ['https://stockai-bucket.apyhi.com/images/0-3384976558-pikachu eating spagetti.webp'],\n",
       " 'approved': 1,\n",
       " 'created_at': datetime.datetime(2023, 3, 24, 13, 37, 11, 580000),\n",
       " 'prompt': 'pikachu eating spagetti',\n",
       " 'dashboard_actions': [{'approved_by': 'nikhil2@appyhigh.com',\n",
       "   'created_at': datetime.datetime(2023, 4, 11, 11, 46, 59, 865000)}],\n",
       " 'thumbnails': {'small': 'https://stockai-bucket.apyhi.com/thumbnails/(30, 30)/30*300-3384976558-pikachu eating spagetti.webp',\n",
       "  'medium': 'https://stockai-bucket.apyhi.com/thumbnails/(75, 75)/75*750-3384976558-pikachu eating spagetti.webp',\n",
       "  'large': 'https://stockai-bucket.apyhi.com/thumbnails/(300, 300)/300*3000-3384976558-pikachu eating spagetti.webp'},\n",
       " 'annoy_index': True}"
      ]
     },
     "execution_count": 36,
     "metadata": {},
     "output_type": "execute_result"
    }
   ],
   "source": [
    "doc[0]"
   ]
  },
  {
   "cell_type": "code",
   "execution_count": null,
   "metadata": {},
   "outputs": [],
   "source": []
  }
 ],
 "metadata": {
  "kernelspec": {
   "display_name": "venv",
   "language": "python",
   "name": "python3"
  },
  "language_info": {
   "codemirror_mode": {
    "name": "ipython",
    "version": 3
   },
   "file_extension": ".py",
   "mimetype": "text/x-python",
   "name": "python",
   "nbconvert_exporter": "python",
   "pygments_lexer": "ipython3",
   "version": "3.8.16"
  },
  "orig_nbformat": 4
 },
 "nbformat": 4,
 "nbformat_minor": 2
}
