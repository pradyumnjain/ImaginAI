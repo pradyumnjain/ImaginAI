{
 "cells": [
  {
   "attachments": {},
   "cell_type": "markdown",
   "metadata": {},
   "source": [
    "# Mongo Function"
   ]
  },
  {
   "cell_type": "code",
   "execution_count": 80,
   "metadata": {},
   "outputs": [],
   "source": [
    "import os\n",
    "from dotenv import load_dotenv\n",
    "from pymongo import MongoClient\n",
    "from bson.objectid import ObjectId"
   ]
  },
  {
   "cell_type": "code",
   "execution_count": null,
   "metadata": {},
   "outputs": [],
   "source": [
    "load_dotenv()\n",
    "\n",
    "MONGO_URI = os.getenv('MONGO_URI')\n",
    "client = MongoClient(MONGO_URI)\n",
    "\n",
    "db = client[\"ImaginAI\"]\n",
    "collection = db[\"stock_data\"]"
   ]
  },
  {
   "attachments": {},
   "cell_type": "markdown",
   "metadata": {},
   "source": [
    "## Get Home Images"
   ]
  },
  {
   "cell_type": "code",
   "execution_count": null,
   "metadata": {},
   "outputs": [],
   "source": [
    "def GetHomeImages(collection=None,cursor=0,size=50):\n",
    "    if collection is None:\n",
    "        return {}\n",
    "    query = {}\n",
    "    documents = list(collection.find(query).skip(cursor).limit(size))\n",
    "    url_list = [doc[\"image_url_list\"][0].split(\"/\")[-1] for doc in documents]\n",
    "    next_cursor = cursor + len(url_list)\n",
    "    return {\"url_list\":url_list,\"next_cursor\":next_cursor}"
   ]
  },
  {
   "cell_type": "code",
   "execution_count": null,
   "metadata": {},
   "outputs": [],
   "source": [
    "GetHomeImages(collection,0,10)"
   ]
  },
  {
   "attachments": {},
   "cell_type": "markdown",
   "metadata": {},
   "source": [
    "## Search Prompt"
   ]
  },
  {
   "cell_type": "code",
   "execution_count": null,
   "metadata": {},
   "outputs": [],
   "source": [
    "def SearchPrompt(collection=None,cursor=0,size=50,prompt=\"\"):\n",
    "    if len(prompt.split(\" \")) > 3:\n",
    "        return {\"response\" : \"Too Many keywords\"}\n",
    "    if prompt == \"\":\n",
    "        return {\"response\" : \"No Keywords provided\"}\n",
    "    query = [\n",
    "        {\n",
    "            '$search': {\n",
    "                'index': 'search_prompt',\n",
    "                'text': {\n",
    "                    'query': f'{prompt}',\n",
    "                    'path': {\n",
    "                        'wildcard': '*'\n",
    "                    },\n",
    "                    'fuzzy': {}\n",
    "                }\n",
    "            }\n",
    "        },\n",
    "        {\n",
    "            '$limit': size  # Number of documents to retrieve\n",
    "        },\n",
    "        {\n",
    "            '$skip': cursor  # Number of documents to skip\n",
    "        }\n",
    "    ]\n",
    "    result = collection.aggregate(query)\n",
    "\n",
    "    return [doc for doc in result]"
   ]
  },
  {
   "cell_type": "code",
   "execution_count": null,
   "metadata": {},
   "outputs": [],
   "source": [
    "documents = SearchPrompt(collection,0,50,\"car\")"
   ]
  },
  {
   "cell_type": "code",
   "execution_count": null,
   "metadata": {},
   "outputs": [],
   "source": [
    "for doc in documents:\n",
    "    print(doc['prompt'])"
   ]
  },
  {
   "attachments": {},
   "cell_type": "markdown",
   "metadata": {},
   "source": [
    "## Search Image"
   ]
  },
  {
   "cell_type": "code",
   "execution_count": 109,
   "metadata": {},
   "outputs": [],
   "source": [
    "\n",
    "def SearchImage(collection=None,vector=[]):\n",
    "    query = [\n",
    "                {\n",
    "                        \"$search\": {\n",
    "                            \"index\": \"search_image\",\n",
    "                            \"knnBeta\": {\n",
    "                            \"vector\": vector,\n",
    "                            \"path\": \"content_embedding\",\n",
    "                            \"k\": 5\n",
    "                            }\n",
    "                        }\n",
    "                },\n",
    "                    {\n",
    "                    \"$skip\": 100\n",
    "                    },\n",
    "                    {\n",
    "                    \"$limit\": 50\n",
    "                    }\n",
    "            ]\n",
    "    result = collection.aggregate(query)\n",
    "\n",
    "    return [doc for doc in result]"
   ]
  },
  {
   "cell_type": "code",
   "execution_count": 110,
   "metadata": {},
   "outputs": [],
   "source": [
    "vector = collection.find({\"_id\":ObjectId(\"641d5a8b10d0c2407e98b8f6\")},{\"content_embedding\"})[0]['content_embedding']\n",
    "documents = SearchImage(collection,vector)"
   ]
  },
  {
   "cell_type": "code",
   "execution_count": 111,
   "metadata": {},
   "outputs": [
    {
     "name": "stdout",
     "output_type": "stream",
     "text": [
      "641d5a8b10d0c2407e98b8f6\n",
      "641d5f98dc7673f35a73d818\n",
      "642d840481b26223d05d3986\n",
      "642d816b81b26223d05d291c\n",
      "642d82cf81b26223d05d31c9\n"
     ]
    }
   ],
   "source": [
    "for doc in documents:\n",
    "    print(doc['_id'])"
   ]
  },
  {
   "cell_type": "code",
   "execution_count": null,
   "metadata": {},
   "outputs": [],
   "source": []
  }
 ],
 "metadata": {
  "kernelspec": {
   "display_name": "venv",
   "language": "python",
   "name": "python3"
  },
  "language_info": {
   "codemirror_mode": {
    "name": "ipython",
    "version": 3
   },
   "file_extension": ".py",
   "mimetype": "text/x-python",
   "name": "python",
   "nbconvert_exporter": "python",
   "pygments_lexer": "ipython3",
   "version": "3.8.16"
  },
  "orig_nbformat": 4
 },
 "nbformat": 4,
 "nbformat_minor": 2
}
