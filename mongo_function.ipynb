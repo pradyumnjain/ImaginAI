{
 "cells": [
  {
   "attachments": {},
   "cell_type": "markdown",
   "metadata": {},
   "source": [
    "# Mongo Function"
   ]
  },
  {
   "cell_type": "code",
   "execution_count": null,
   "metadata": {},
   "outputs": [],
   "source": [
    "import os\n",
    "from dotenv import load_dotenv\n",
    "from pymongo import MongoClient\n",
    "from bson.objectid import ObjectId\n",
    "import time"
   ]
  },
  {
   "cell_type": "code",
   "execution_count": null,
   "metadata": {},
   "outputs": [],
   "source": [
    "load_dotenv()\n",
    "\n",
    "MONGO_URI = os.getenv('MONGO_URI')\n",
    "client = MongoClient(MONGO_URI)\n",
    "\n",
    "db = client[\"ImaginAI\"]\n",
    "collection = db[\"stock_data\"]"
   ]
  },
  {
   "attachments": {},
   "cell_type": "markdown",
   "metadata": {},
   "source": [
    "## Get Home Images"
   ]
  },
  {
   "cell_type": "code",
   "execution_count": null,
   "metadata": {},
   "outputs": [],
   "source": [
    "def GetHomeImages(collection=None,cursor=0,size=50):\n",
    "    if collection is None:\n",
    "        return {}\n",
    "    query = {}\n",
    "    documents = list(collection.find(query).skip(cursor).limit(size))\n",
    "    url_list = [doc[\"image_url_list\"][0].split(\"/\")[-1] for doc in documents]\n",
    "    next_cursor = cursor + len(url_list)\n",
    "    return {\"url_list\":url_list,\"next_cursor\":next_cursor}"
   ]
  },
  {
   "cell_type": "code",
   "execution_count": null,
   "metadata": {},
   "outputs": [],
   "source": [
    "GetHomeImages(collection,0,10)"
   ]
  },
  {
   "attachments": {},
   "cell_type": "markdown",
   "metadata": {},
   "source": [
    "## Search Prompt"
   ]
  },
  {
   "cell_type": "code",
   "execution_count": null,
   "metadata": {},
   "outputs": [],
   "source": [
    "def SearchPrompt(collection=None,cursor=0,size=50,prompt=\"\"):\n",
    "    if len(prompt.split(\" \")) > 3:\n",
    "        return {\"response\" : \"Too Many keywords\"}\n",
    "    if prompt == \"\":\n",
    "        return {\"response\" : \"No Keywords provided\"}\n",
    "    query = [\n",
    "        {\n",
    "            '$search': {\n",
    "                'index': 'search_prompt',\n",
    "                'text': {\n",
    "                    'query': f'{prompt}',\n",
    "                    'path': {\n",
    "                        'wildcard': '*'\n",
    "                    },\n",
    "                    'fuzzy': {}\n",
    "                }\n",
    "            }\n",
    "        },\n",
    "        {\n",
    "            '$limit': size  # Number of documents to retrieve\n",
    "        },\n",
    "        {\n",
    "            '$skip': cursor  # Number of documents to skip\n",
    "        }\n",
    "    ]\n",
    "    result = collection.aggregate(query)\n",
    "\n",
    "    return [doc for doc in result]"
   ]
  },
  {
   "cell_type": "code",
   "execution_count": 72,
   "metadata": {},
   "outputs": [],
   "source": [
    "documents = SearchPrompt(collection,0,50,\"women\")"
   ]
  },
  {
   "cell_type": "code",
   "execution_count": 73,
   "metadata": {},
   "outputs": [
    {
     "name": "stdout",
     "output_type": "stream",
     "text": [
      "641d6e6b92e339fcd4169e78 Rainbow-colored haired woman\n",
      "641d721b0e8f6e83ca727c9e A woman with dahlia flowers\n",
      "641d6e4592e339fcd4169e6a A woman with long hair\n",
      "641d6e3692e339fcd4169e64 A woman with colored hair\n",
      "641d6e3092e339fcd4169e62 A woman with colorful hair\n",
      "641d6e6092e339fcd4169e74 A woman with long colorful hair\n",
      "641d6dfb92e339fcd4169e4e A woman with butterflies on her face\n",
      "641d71bd0e8f6e83ca727c78 A woman with flowers on her head\n",
      "641d817c0e8f6e83ca728260 A woman looking at a butterfly\n",
      "641d722a0e8f6e83ca727ca4 A woman with daisy flowers on her head\n",
      "641d72070e8f6e83ca727c96 Cherry blossoms adorn the head of a woman\n",
      "641d71c70e8f6e83ca727c7c A woman wears anemone flowers on her head\n",
      "641d72210e8f6e83ca727ca0 A woman with dahlia flowers in her hair\n",
      "641d72430e8f6e83ca727cae A woman lying down with her eyes closed\n",
      "641d72340e8f6e83ca727ca8 A woman with daisy flowers on her face\n",
      "641d6e6692e339fcd4169e76 The hair of a woman with rainbow colors\n",
      "641d71e50e8f6e83ca727c88 A woman wears azalea flowers on her head\n",
      "641d71e00e8f6e83ca727c86 Azalea flowers adorn the head of a woman\n",
      "641d720d0e8f6e83ca727c98 A woman with cherry blossom flowers in her hair\n",
      "641d71fd0e8f6e83ca727c92 Bird of paradise flowers adorn the head of a woman\n",
      "641d72490e8f6e83ca727cb0 A woman lying on a bed with flowers on her head\n",
      "641d72120e8f6e83ca727c9a A woman in a white dress surrounded by cherry blossom flowers\n",
      "641d71f30e8f6e83ca727c8e A woman wears birds of paradise flowers on her head\n",
      "641d6052da21325653749a49  women seated in monet's garden overlooking a lake with mountain background diffuse lighting fantasy intricate elegant highl\n",
      "641d71ef0e8f6e83ca727c8c The bird of paradise flower is adorned on the head of a woman\n",
      "641d60f3acb54f5f26ea289a michelangelo sculpture_ bald barber pulls drowned woman by the hair\n",
      "641d7d460e8f6e83ca7280e6 A bowl of ramen\n",
      "641d6221ee1ed701a7a983ef woman sitting in a cafe artstation conceptart pretty lights art by Albert Lynch\n",
      "641d62b0acb54f5f26ea2984 chunky woman wearing goth platform high heel flip flops full body hyper realistic shoe model shoe buckles\n",
      "641d7d660e8f6e83ca7280f2 A stack of roti on a wooden surface\n",
      "641d7f790e8f6e83ca7281aa A group of sandwiches on a wooden surface\n",
      "641d71cc0e8f6e83ca727c7e Anemone flowers adorn a woman's head\n",
      "641d74d70e8f6e83ca727db0 Grilled chicken on a wooden board and vegetables\n",
      "641d602bacb54f5f26ea2840 ighly detailed painting woman potrait ultra realistic kebaya big breast studio lighting intricate highly detailed pupils \n",
      "641d72030e8f6e83ca727c94 Cherry blossoms adorn a woman's head\n",
      "641d71ea0e8f6e83ca727c8a Azalea flowers adorn a woman's head\n",
      "641d6222da21325653749b33 turkish woman in platform & boot high heels trampling a mans head digital art perfect anatomy hyper detailed highly intrica\n",
      "641d62b5ee1ed701a7a98439 woman wearing leather buckled platform high heel flip flops full body hyper realistic shoe model shoe buckles tight jeans\n",
      "641d5c3f96f1149738fff99c professional portrait of a mature pretty woman doctor in dynamic pose determined look symetrical facial features peaceful fac\n",
      "641d6170dc7673f35a73d8e0 simple and modern lasercutted wooden poppy earrings\n",
      "641d6109ee1ed701a7a9835d tiny house isometric style wooden chines architectur\n",
      "641d60c7ee1ed701a7a98337 tiny house isometric style wooden castle architectur\n",
      "641d616eacb54f5f26ea28ce wooden purple loosestrife earrings black and whit\n",
      "641d602bdc7673f35a73d858 highly detailed painting woman ultra realistic kimono studio lighting intricate highly detailed pupils  k uhd image art \n",
      "641d615edc7673f35a73d8d4 norway medieval basrelief wooden viking meditation yoga\n",
      "641d621fda21325653749b31 a wooden chalet in a pine forest Albert Bierstadt\n",
      "641d71db0e8f6e83ca727c84 Azalea flowers are adorning a woman's head\n",
      "641d6208ee1ed701a7a983df the sun rises over farmers woman and children in the street of small snowy village mountains in the distance  drawing comic\n",
      "641d5bce10d0c2407e98b924 a highly detailed epic cinematic concept art CG render digital painting artwork_ an epic  nomad tribal warrior woman with whit\n",
      "641d71f90e8f6e83ca727c90 Bird of paradise flowers adorn a woman's head\n"
     ]
    }
   ],
   "source": [
    "for doc in documents:\n",
    "    print(doc['_id'],doc['prompt'])"
   ]
  },
  {
   "attachments": {},
   "cell_type": "markdown",
   "metadata": {},
   "source": [
    "## Search Image"
   ]
  },
  {
   "cell_type": "code",
   "execution_count": 49,
   "metadata": {},
   "outputs": [],
   "source": [
    "\n",
    "def SearchImage(collection=None,vector=[]):\n",
    "    query = [\n",
    "                {\n",
    "                        \"$search\": {\n",
    "                            \"index\": \"search_image\",\n",
    "                            \"knnBeta\": {\n",
    "                            \"vector\": vector,\n",
    "                            \"path\": \"content_embedding\",\n",
    "                            \"k\": 2000\n",
    "                            }\n",
    "                        }\n",
    "                },\n",
    "                {\n",
    "                \"$skip\": 0\n",
    "                },\n",
    "                {\n",
    "                \"$limit\": 24\n",
    "                }\n",
    "            ]\n",
    "    result = collection.aggregate(query)\n",
    "    return [doc for doc in result]"
   ]
  },
  {
   "cell_type": "code",
   "execution_count": 74,
   "metadata": {},
   "outputs": [
    {
     "name": "stdout",
     "output_type": "stream",
     "text": [
      "0.2622547149658203\n"
     ]
    }
   ],
   "source": [
    "start = time.time()\n",
    "vector = collection.find({\"_id\":ObjectId(\"641d6e4592e339fcd4169e6a\")},{\"content_embedding\"})[0]['content_embedding']\n",
    "documents = SearchImage(collection,vector)\n",
    "print(time.time() - start)"
   ]
  },
  {
   "attachments": {},
   "cell_type": "markdown",
   "metadata": {},
   "source": [
    "## Inference Image Similarity"
   ]
  },
  {
   "cell_type": "code",
   "execution_count": 75,
   "metadata": {},
   "outputs": [],
   "source": [
    "import requests\n",
    "from io import BytesIO\n",
    "from joblib import Parallel,delayed\n",
    "from PIL import Image\n",
    "\n",
    "def download_image(url):\n",
    "    response = requests.get(url)\n",
    "    image = Image.open(BytesIO(response.content))\n",
    "    return image\n",
    "\n",
    "image_urls = [doc['image_url_list'][0] for doc in documents]\n",
    "images = Parallel(n_jobs=24)(delayed(download_image)(url) for url in image_urls)"
   ]
  },
  {
   "cell_type": "code",
   "execution_count": 71,
   "metadata": {},
   "outputs": [],
   "source": [
    "from PIL import Image\n",
    "import numpy as np\n",
    "\n",
    "# Create a blank canvas for the grid\n",
    "canvas_width = 600  # Adjust the canvas dimensions as desired\n",
    "canvas_height = 400\n",
    "canvas = Image.new('RGB', (canvas_width, canvas_height), (255, 255, 255))\n",
    "\n",
    "# Load and resize the images\n",
    " # Replace with the respective image paths or URLs\n",
    "reImages = []\n",
    "for img in images:\n",
    "    img = img.resize((canvas_width // 6, canvas_height // 4))  # Divide canvas dimensions by grid size (4x6)\n",
    "    reImages.append(img)\n",
    "\n",
    "# Paste the images onto the canvas in a grid pattern\n",
    "x_offset = 0\n",
    "y_offset = 0\n",
    "for img in reImages:\n",
    "    canvas.paste(img, (x_offset, y_offset))\n",
    "    x_offset += img.width\n",
    "    if x_offset >= canvas_width:\n",
    "        x_offset = 0\n",
    "        y_offset += img.height\n",
    "\n",
    "# Display or save the resulting grid image\n",
    "# canvas.show()  # Display the image\n",
    "canvas.save(\"image_grid4.jpg\")  # Save the image to a file\n"
   ]
  },
  {
   "cell_type": "code",
   "execution_count": null,
   "metadata": {},
   "outputs": [],
   "source": []
  }
 ],
 "metadata": {
  "kernelspec": {
   "display_name": "venv",
   "language": "python",
   "name": "python3"
  },
  "language_info": {
   "codemirror_mode": {
    "name": "ipython",
    "version": 3
   },
   "file_extension": ".py",
   "mimetype": "text/x-python",
   "name": "python",
   "nbconvert_exporter": "python",
   "pygments_lexer": "ipython3",
   "version": "3.8.16"
  },
  "orig_nbformat": 4
 },
 "nbformat": 4,
 "nbformat_minor": 2
}
